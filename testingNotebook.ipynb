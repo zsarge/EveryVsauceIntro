{
 "cells": [
  {
   "cell_type": "code",
   "execution_count": 1,
   "metadata": {},
   "outputs": [],
   "source": [
    "#  Testing ytdl and FFMPEG\n",
    "from youtube_dl import YoutubeDL\n",
    "from ffmpy import FFmpeg\n",
    "\n"
   ]
  },
  {
   "cell_type": "code",
   "execution_count": 2,
   "metadata": {},
   "outputs": [
    {
     "output_type": "stream",
     "name": "stdout",
     "text": "[youtube] nb0YoRMXIY0: Downloading webpage\n"
    }
   ],
   "source": [
    "with YoutubeDL() as ydl:\n",
    "    video = \"https://www.youtube.com/watch?v=nb0YoRMXIY0\"\n",
    "    info_dict = ydl.extract_info(video, download=False)"
   ]
  },
  {
   "cell_type": "code",
   "execution_count": 3,
   "metadata": {
    "tags": [
     "outputPrepend"
    ]
   },
   "outputs": [],
   "source": [
    "def getVideoURL():\n",
    "    url = ''\n",
    "    maxWidth = 0\n",
    "    # Find the widest video only stream\n",
    "    for value in info_dict['formats']:\n",
    "        if value['acodec'] == 'none':\n",
    "            if value['width'] > maxWidth:\n",
    "                url = value['url']\n",
    "    return url"
   ]
  },
  {
   "cell_type": "code",
   "execution_count": 4,
   "metadata": {},
   "outputs": [],
   "source": [
    "def getAudioURL():\n",
    "    # Audio quality doesn't matter as much,\n",
    "    # so return the first audio only stream.\n",
    "    for value in info_dict['formats']:\n",
    "        if value['vcodec'] == 'none':\n",
    "            return value['url']"
   ]
  },
  {
   "cell_type": "code",
   "execution_count": 5,
   "metadata": {},
   "outputs": [],
   "source": [
    "vidURL = getVideoURL()\n",
    "audURL = getAudioURL()\n"
   ]
  },
  {
   "cell_type": "code",
   "execution_count": 6,
   "metadata": {},
   "outputs": [
    {
     "output_type": "execute_result",
     "data": {
      "text/plain": "'ffmpeg -ss 16.5 -t 10 -i https://r5---sn-vgqsknek.googlevideo.com/videoplayback?expire=1588398068&ei=lLOsXsaoDoWSwQHcg7qQBg&ip=184.54.17.194&id=o-AIN5Chu81RzGNtNaQxW7qgbCsJJ8rLJAiTe9PulrDe4J&itag=399&aitags=133%2C134%2C135%2C136%2C137%2C160%2C242%2C243%2C244%2C247%2C248%2C278%2C394%2C395%2C396%2C397%2C398%2C399&source=youtube&requiressl=yes&mh=43&mm=31%2C26&mn=sn-vgqsknek%2Csn-p5qlsndd&ms=au%2Conr&mv=m&mvi=4&pl=15&initcwndbps=1750000&vprv=1&mime=video%2Fmp4&gir=yes&clen=64325983&dur=776.150&lmt=1581430801775611&mt=1588376370&fvip=5&keepalive=yes&c=WEB&txp=5531432&sparams=expire%2Cei%2Cip%2Cid%2Caitags%2Csource%2Crequiressl%2Cvprv%2Cmime%2Cgir%2Cclen%2Cdur%2Clmt&sig=AJpPlLswRgIhAMg9A9fzCJXfvVgTWEtt_AKYcCIxl3mc8DG2LlHMksl8AiEAwxObBs5O429dX31ZeLfbREKFwd-un0rriyC17ysTp6k%3D&lsparams=mh%2Cmm%2Cmn%2Cms%2Cmv%2Cmvi%2Cpl%2Cinitcwndbps&lsig=ALrAebAwRgIhANgBmwYUXgckZcZ3EVqqIPgnG7zLYtsuDFYfnbxBONIXAiEA6K6FEeX0TE4iBCnHtH2hwzaSR5gjhhntq6wHSF2Exlo%3D&ratebypass=yes -ss 16.5 -t 10 -i https://r5---sn-vgqsknek.googlevideo.com/videoplayback?expire=1588398068&ei=lLOsXsaoDoWSwQHcg7qQBg&ip=184.54.17.194&id=o-AIN5Chu81RzGNtNaQxW7qgbCsJJ8rLJAiTe9PulrDe4J&itag=249&source=youtube&requiressl=yes&mh=43&mm=31%2C26&mn=sn-vgqsknek%2Csn-p5qlsndd&ms=au%2Conr&mv=m&mvi=4&pl=15&initcwndbps=1750000&vprv=1&mime=audio%2Fwebm&gir=yes&clen=4934159&dur=776.221&lmt=1537010817170084&mt=1588376370&fvip=5&keepalive=yes&c=WEB&sparams=expire%2Cei%2Cip%2Cid%2Citag%2Csource%2Crequiressl%2Cvprv%2Cmime%2Cgir%2Cclen%2Cdur%2Clmt&sig=AJpPlLswRgIhAJ8czRszzA_C1CAKBVfoxQlAAMsr9E7yfca93oApAg2kAiEAodI03c_krG68Wq-6Y0s9Bj2XTS14s0ME5SRKmYVIR8E%3D&lsparams=mh%2Cmm%2Cmn%2Cms%2Cmv%2Cmvi%2Cpl%2Cinitcwndbps&lsig=ALrAebAwRgIhANgBmwYUXgckZcZ3EVqqIPgnG7zLYtsuDFYfnbxBONIXAiEA6K6FEeX0TE4iBCnHtH2hwzaSR5gjhhntq6wHSF2Exlo%3D&ratebypass=yes -map 0:v:0 -map 1:a:0 -y Videos/Testing/112.mkv'"
     },
     "metadata": {},
     "execution_count": 6
    }
   ],
   "source": [
    "startPoint = 16.5\n",
    "duration = 10\n",
    "filename = \"Videos/Testing/112.mkv\"\n",
    "# vidURL = \"vidURL\"\n",
    "# audURL = \"audURL\"\n",
    "\n",
    "ff = FFmpeg(\n",
    "    inputs={\n",
    "        f\"{vidURL}\" : ['-ss', f\"{startPoint}\", '-t', f\"{duration}\"],\n",
    "        f\"{audURL}\" : ['-ss', f\"{startPoint}\", '-t', f\"{duration}\"]\n",
    "    },\n",
    "    outputs={\n",
    "        f\"{filename}\": ['-map', '0:v:0', '-map', '1:a:0', '-y']\n",
    "    }\n",
    ")\n",
    "\n",
    "ff.cmd\n",
    "\n",
    "# ffmpeg -ss $start_point -i \"$video_url\" -ss $start_point -i \"$audio_url\" -map 0:v -map 1:a -ss $start_point -t $duration -c:v libx264 -c:a aac test.mkv"
   ]
  },
  {
   "cell_type": "code",
   "execution_count": 7,
   "metadata": {},
   "outputs": [],
   "source": [
    "# ff.run()"
   ]
  },
  {
   "cell_type": "code",
   "execution_count": 8,
   "metadata": {},
   "outputs": [],
   "source": [
    "# info_dict"
   ]
  },
  {
   "cell_type": "code",
   "execution_count": null,
   "metadata": {},
   "outputs": [],
   "source": []
  }
 ],
 "metadata": {
  "language_info": {
   "codemirror_mode": {
    "name": "ipython",
    "version": 3
   },
   "file_extension": ".py",
   "mimetype": "text/x-python",
   "name": "python",
   "nbconvert_exporter": "python",
   "pygments_lexer": "ipython3",
   "version": "3.6.9-final"
  },
  "orig_nbformat": 2,
  "kernelspec": {
   "name": "python36964bite0db1fa476514dfebca9ae92426249d3",
   "display_name": "Python 3.6.9 64-bit"
  }
 },
 "nbformat": 4,
 "nbformat_minor": 2
}