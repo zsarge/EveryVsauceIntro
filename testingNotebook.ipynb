{
 "cells": [
  {
   "cell_type": "code",
   "execution_count": 125,
   "metadata": {},
   "outputs": [],
   "source": [
    "#  Testing ytdl and FFMPEG\n",
    "from youtube_dl import YoutubeDL\n",
    "from ffmpy import FFmpeg\n",
    "\n"
   ]
  },
  {
   "cell_type": "code",
   "execution_count": 126,
   "metadata": {},
   "outputs": [
    {
     "output_type": "stream",
     "name": "stdout",
     "text": "[youtube] ffUnNaQTfZE: Downloading webpage\n"
    }
   ],
   "source": [
    "with YoutubeDL() as ydl:\n",
    "    video = \"https://www.youtube.com/watch?v=ffUnNaQTfZE\"\n",
    "    info_dict = ydl.extract_info(video, download=False)"
   ]
  },
  {
   "cell_type": "code",
   "execution_count": 127,
   "metadata": {
    "tags": [
     "outputPrepend"
    ]
   },
   "outputs": [],
   "source": [
    "def getVideoURL():\n",
    "    url = ''\n",
    "    maxWidth = 0\n",
    "    # Find the widest video only stream\n",
    "    for value in info_dict['formats']:\n",
    "        if value['acodec'] == 'none':\n",
    "            if value['width'] > maxWidth:\n",
    "                url = value['url']\n",
    "    return url"
   ]
  },
  {
   "cell_type": "code",
   "execution_count": 128,
   "metadata": {},
   "outputs": [],
   "source": [
    "def getAudioURL():\n",
    "    # Audio quality doesn't matter as much,\n",
    "    # so return the first audio only stream.\n",
    "    for value in info_dict['formats']:\n",
    "        if value['vcodec'] == 'none':\n",
    "            return value['url']"
   ]
  },
  {
   "cell_type": "code",
   "execution_count": 129,
   "metadata": {},
   "outputs": [],
   "source": [
    "vidURL = getVideoURL()\n",
    "audURL = getAudioURL()\n"
   ]
  },
  {
   "cell_type": "code",
   "execution_count": 130,
   "metadata": {},
   "outputs": [
    {
     "output_type": "execute_result",
     "data": {
      "text/plain": "'ffmpeg -ss 16.5 -t 10 -i https://r5---sn-vgqs7nes.googlevideo.com/videoplayback?expire=1587936924&ei=PKqlXu6hLZb6igSN0LmACQ&ip=184.54.17.194&id=o-AEZ50QhI7xymwrpocObBntalQS9xSNz8S6oy8qKDU09R&itag=313&aitags=133%2C134%2C135%2C136%2C137%2C160%2C242%2C243%2C244%2C247%2C248%2C271%2C278%2C313%2C394%2C395%2C396%2C397&source=youtube&requiressl=yes&mh=H7&mm=31%2C29&mn=sn-vgqs7nes%2Csn-vgqsknez&ms=au%2Crdu&mv=m&mvi=4&pl=15&initcwndbps=1303750&vprv=1&mime=video%2Fwebm&gir=yes&clen=1914259205&dur=1267.999&lmt=1552275510223163&mt=1587915208&fvip=5&keepalive=yes&c=WEB&txp=5532432&sparams=expire%2Cei%2Cip%2Cid%2Caitags%2Csource%2Crequiressl%2Cvprv%2Cmime%2Cgir%2Cclen%2Cdur%2Clmt&sig=AJpPlLswRQIhAKGE5342fSWD87PP9_poqYvatUuvMe8SC1_XDIeVJ2KSAiB6Tdkbpp_HIBCTc90O5OuTND0_DV2erKwmRJGNvugTBA%3D%3D&lsparams=mh%2Cmm%2Cmn%2Cms%2Cmv%2Cmvi%2Cpl%2Cinitcwndbps&lsig=ALrAebAwRAIgMhLtDssBuWy7VGFhfAjBDdumytszBwNu7U1drwmvYCICIDEjiKvc2ilb-hv6b_BhGr9718Xfz9PmIPTYpvdgYZVU&ratebypass=yes -ss 16.5 -t 10 -i https://r5---sn-vgqs7nes.googlevideo.com/videoplayback?expire=1587936924&ei=PKqlXu6hLZb6igSN0LmACQ&ip=184.54.17.194&id=o-AEZ50QhI7xymwrpocObBntalQS9xSNz8S6oy8qKDU09R&itag=249&source=youtube&requiressl=yes&mh=H7&mm=31%2C29&mn=sn-vgqs7nes%2Csn-vgqsknez&ms=au%2Crdu&mv=m&mvi=4&pl=15&initcwndbps=1303750&vprv=1&mime=audio%2Fwebm&gir=yes&clen=7996958&dur=1268.061&lmt=1552290050712044&mt=1587915208&fvip=5&keepalive=yes&c=WEB&txp=5511222&sparams=expire%2Cei%2Cip%2Cid%2Citag%2Csource%2Crequiressl%2Cvprv%2Cmime%2Cgir%2Cclen%2Cdur%2Clmt&sig=AJpPlLswRAIgIeElmu656jtIAxuQ-_G_s3z4eOPFoS4BE74vZajTAWwCIENERdEwpTSpfi7k3oVIPcvFGyCc3nbcfH51rRjr4R3l&lsparams=mh%2Cmm%2Cmn%2Cms%2Cmv%2Cmvi%2Cpl%2Cinitcwndbps&lsig=ALrAebAwRAIgMhLtDssBuWy7VGFhfAjBDdumytszBwNu7U1drwmvYCICIDEjiKvc2ilb-hv6b_BhGr9718Xfz9PmIPTYpvdgYZVU&ratebypass=yes -map 0:v:0 -map 1:a:0 -y Videos/Testing/112.mkv'"
     },
     "metadata": {},
     "execution_count": 130
    }
   ],
   "source": [
    "startPoint = 16.5\n",
    "duration = 10\n",
    "filename = \"Videos/Testing/112.mkv\"\n",
    "# vidURL = \"vidURL\"\n",
    "# audURL = \"audURL\"\n",
    "\n",
    "ff = FFmpeg(\n",
    "    inputs={\n",
    "        f\"{vidURL}\" : ['-ss', f\"{startPoint}\", '-t', f\"{duration}\"],\n",
    "        f\"{audURL}\" : ['-ss', f\"{startPoint}\", '-t', f\"{duration}\"]\n",
    "    },\n",
    "    outputs={\n",
    "        f\"{filename}\": ['-map', '0:v:0', '-map', '1:a:0', '-y']\n",
    "    }\n",
    ")\n",
    "\n",
    "ff.cmd\n",
    "\n",
    "# ffmpeg -ss $start_point -i \"$video_url\" -ss $start_point -i \"$audio_url\" -map 0:v -map 1:a -ss $start_point -t $duration -c:v libx264 -c:a aac test.mkv"
   ]
  },
  {
   "cell_type": "code",
   "execution_count": 131,
   "metadata": {},
   "outputs": [
    {
     "output_type": "execute_result",
     "data": {
      "text/plain": "(None, None)"
     },
     "metadata": {},
     "execution_count": 131
    }
   ],
   "source": [
    "ff.run()"
   ]
  },
  {
   "cell_type": "code",
   "execution_count": null,
   "metadata": {},
   "outputs": [],
   "source": []
  }
 ],
 "metadata": {
  "language_info": {
   "codemirror_mode": {
    "name": "ipython",
    "version": 3
   },
   "file_extension": ".py",
   "mimetype": "text/x-python",
   "name": "python",
   "nbconvert_exporter": "python",
   "pygments_lexer": "ipython3",
   "version": "3.6.9-final"
  },
  "orig_nbformat": 2,
  "kernelspec": {
   "name": "python36964bite0db1fa476514dfebca9ae92426249d3",
   "display_name": "Python 3.6.9 64-bit"
  }
 },
 "nbformat": 4,
 "nbformat_minor": 2
}