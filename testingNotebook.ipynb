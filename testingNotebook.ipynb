{
 "cells": [
  {
   "cell_type": "code",
   "execution_count": 1,
   "metadata": {},
   "outputs": [],
   "source": [
    "#  Testing ytdl and FFMPEG\n",
    "from youtube_dl import YoutubeDL\n",
    "from ffmpy import FFmpeg\n",
    "\n"
   ]
  },
  {
   "cell_type": "code",
   "execution_count": 6,
   "metadata": {
    "tags": [
     "outputPrepend"
    ]
   },
   "outputs": [
    {
     "output_type": "stream",
     "name": "stdout",
     "text": "http_headers': {'User-Agent': 'Mozilla/5.0 (Windows NT 10.0; Win64; x64) AppleWebKit/537.36 (KHTML, like Gecko) Chrome/71.0.3567.0 Safari/537.36', 'Accept-Charset': 'ISO-8859-1,utf-8;q=0.7,*;q=0.7', 'Accept': 'text/html,application/xhtml+xml,application/xml;q=0.9,*/*;q=0.8', 'Accept-Encoding': 'gzip, deflate', 'Accept-Language': 'en-us,en;q=0.5'}}, {'format_id': '397', 'url': 'https://r5---sn-vgqsknek.googlevideo.com/videoplayback?expire=1590467729&ei=MUjMXrukAof9igSt-q_IDQ&ip=184.54.17.194&id=o-ABSyJOFiFuTm_ngxA1Bnre0X6q0TxzmPZ1HwXC-s-psB&itag=397&aitags=133%2C134%2C135%2C136%2C137%2C160%2C242%2C243%2C244%2C247%2C248%2C278%2C394%2C395%2C396%2C397%2C398%2C399&source=youtube&requiressl=yes&mh=43&mm=31%2C26&mn=sn-vgqsknek%2Csn-p5qlsndd&ms=au%2Conr&mv=m&mvi=4&pl=15&initcwndbps=1701250&vprv=1&mime=video%2Fmp4&gir=yes&clen=17823809&dur=776.150&lmt=1581430417173719&mt=1590446074&fvip=5&keepalive=yes&c=WEB&txp=5531432&sparams=expire%2Cei%2Cip%2Cid%2Caitags%2Csource%2Crequiressl%2Cvprv%2Cmime%2Cgir%2Cclen%2Cdur%2Clmt&sig=AOq0QJ8wRAIgCtQEY-V5ubYqV3XBzaIW-T8Le3tDYkHKBbd6KaTc6SkCIGgF0XRlmnRf0AzATeSkpYVRFqFYSwGNg8ELXdW7bJfb&lsparams=mh%2Cmm%2Cmn%2Cms%2Cmv%2Cmvi%2Cpl%2Cinitcwndbps&lsig=AG3C_xAwRAIgNhgOFJyWovJrXAvwsgW9tS2IkhDdKPxrATHBGugwQk0CIDDXYFY1cbbXJlr6dFm9QcrgO0qB3j2kbggOeMgooTJa&ratebypass=yes', 'player_url': None, 'acodec': 'none', 'vcodec': 'av01.0.04M.08', 'asr': None, 'filesize': 17823809, 'format_note': '480p', 'fps': 24, 'height': 480, 'tbr': 976.334, 'width': 854, 'ext': 'mp4', 'downloader_options': {'http_chunk_size': 10485760}, 'format': '397 - 854x480 (480p)', 'protocol': 'https', 'http_headers': {'User-Agent': 'Mozilla/5.0 (Windows NT 10.0; Win64; x64) AppleWebKit/537.36 (KHTML, like Gecko) Chrome/71.0.3567.0 Safari/537.36', 'Accept-Charset': 'ISO-8859-1,utf-8;q=0.7,*;q=0.7', 'Accept': 'text/html,application/xhtml+xml,application/xml;q=0.9,*/*;q=0.8', 'Accept-Encoding': 'gzip, deflate', 'Accept-Language': 'en-us,en;q=0.5'}}, {'format_id': '135', 'url': 'https://r5---sn-vgqsknek.googlevideo.com/videoplayback?expire=1590467729&ei=MUjMXrukAof9igSt-q_IDQ&ip=184.54.17.194&id=o-ABSyJOFiFuTm_ngxA1Bnre0X6q0TxzmPZ1HwXC-s-psB&itag=135&aitags=133%2C134%2C135%2C136%2C137%2C160%2C242%2C243%2C244%2C247%2C248%2C278%2C394%2C395%2C396%2C397%2C398%2C399&source=youtube&requiressl=yes&mh=43&mm=31%2C26&mn=sn-vgqsknek%2Csn-p5qlsndd&ms=au%2Conr&mv=m&mvi=4&pl=15&initcwndbps=1701250&vprv=1&mime=video%2Fmp4&gir=yes&clen=22348207&dur=776.150&lmt=1537008901284669&mt=1590446074&fvip=5&keepalive=yes&c=WEB&sparams=expire%2Cei%2Cip%2Cid%2Caitags%2Csource%2Crequiressl%2Cvprv%2Cmime%2Cgir%2Cclen%2Cdur%2Clmt&sig=AOq0QJ8wRAIgB5UYp9cDtgDymxtNzl5SiHsW5X2p-VANeW0HE8J26CICIGV2DX8oIpafDXH1bQQ0QzUE1mf8uKRkqIqscJm1mY2O&lsparams=mh%2Cmm%2Cmn%2Cms%2Cmv%2Cmvi%2Cpl%2Cinitcwndbps&lsig=AG3C_xAwRAIgNhgOFJyWovJrXAvwsgW9tS2IkhDdKPxrATHBGugwQk0CIDDXYFY1cbbXJlr6dFm9QcrgO0qB3j2kbggOeMgooTJa&ratebypass=yes', 'player_url': None, 'ext': 'mp4', 'height': 480, 'format_note': '480p', 'vcodec': 'avc1.4d401e', 'asr': None, 'filesize': 22348207, 'fps': 24, 'tbr': 1236.952, 'width': 854, 'acodec': 'none', 'downloader_options': {'http_chunk_size': 10485760}, 'format': '135 - 854x480 (480p)', 'protocol': 'https', 'http_headers': {'User-Agent': 'Mozilla/5.0 (Windows NT 10.0; Win64; x64) AppleWebKit/537.36 (KHTML, like Gecko) Chrome/71.0.3567.0 Safari/537.36', 'Accept-Charset': 'ISO-8859-1,utf-8;q=0.7,*;q=0.7', 'Accept': 'text/html,application/xhtml+xml,application/xml;q=0.9,*/*;q=0.8', 'Accept-Encoding': 'gzip, deflate', 'Accept-Language': 'en-us,en;q=0.5'}}, {'format_id': '247', 'url': 'https://r5---sn-vgqsknek.googlevideo.com/videoplayback?expire=1590467729&ei=MUjMXrukAof9igSt-q_IDQ&ip=184.54.17.194&id=o-ABSyJOFiFuTm_ngxA1Bnre0X6q0TxzmPZ1HwXC-s-psB&itag=247&aitags=133%2C134%2C135%2C136%2C137%2C160%2C242%2C243%2C244%2C247%2C248%2C278%2C394%2C395%2C396%2C397%2C398%2C399&source=youtube&requiressl=yes&mh=43&mm=31%2C26&mn=sn-vgqsknek%2Csn-p5qlsndd&ms=au%2Conr&mv=m&mvi=4&pl=15&initcwndbps=1701250&vprv=1&mime=video%2Fwebm&gir=yes&clen=34776171&dur=776.150&lmt=1537007738749988&mt=1590446074&fvip=5&keepalive=yes&c=WEB&sparams=expire%2Cei%2Cip%2Cid%2Caitags%2Csource%2Crequiressl%2Cvprv%2Cmime%2Cgir%2Cclen%2Cdur%2Clmt&sig=AOq0QJ8wRQIge-Kux90eS6BQZfUJMjdpZHZmBdmghw5Lvgag2X-FgVgCIQDTYqXfTzCeK5KHLpdEXcWZtTAefyQb91lEwH54GQLmsg%3D%3D&lsparams=mh%2Cmm%2Cmn%2Cms%2Cmv%2Cmvi%2Cpl%2Cinitcwndbps&lsig=AG3C_xAwRAIgNhgOFJyWovJrXAvwsgW9tS2IkhDdKPxrATHBGugwQk0CIDDXYFY1cbbXJlr6dFm9QcrgO0qB3j2kbggOeMgooTJa&ratebypass=yes', 'player_url': None, 'ext': 'webm', 'height': 720, 'format_note': '720p', 'vcodec': 'vp9', 'asr': None, 'filesize': 34776171, 'fps': 24, 'tbr': 1390.772, 'width': 1280, 'acodec': 'none', 'downloader_options': {'http_chunk_size': 10485760}, 'format': '247 - 1280x720 (720p)', 'protocol': 'https', 'http_headers': {'User-Agent': 'Mozilla/5.0 (Windows NT 10.0; Win64; x64) AppleWebKit/537.36 (KHTML, like Gecko) Chrome/71.0.3567.0 Safari/537.36', 'Accept-Charset': 'ISO-8859-1,utf-8;q=0.7,*;q=0.7', 'Accept': 'text/html,application/xhtml+xml,application/xml;q=0.9,*/*;q=0.8', 'Accept-Encoding': 'gzip, deflate', 'Accept-Language': 'en-us,en;q=0.5'}}, {'format_id': '398', 'url': 'https://r5---sn-vgqsknek.googlevideo.com/videoplayback?expire=1590467729&ei=MUjMXrukAof9igSt-q_IDQ&ip=184.54.17.194&id=o-ABSyJOFiFuTm_ngxA1Bnre0X6q0TxzmPZ1HwXC-s-psB&itag=398&aitags=133%2C134%2C135%2C136%2C137%2C160%2C242%2C243%2C244%2C247%2C248%2C278%2C394%2C395%2C396%2C397%2C398%2C399&source=youtube&requiressl=yes&mh=43&mm=31%2C26&mn=sn-vgqsknek%2Csn-p5qlsndd&ms=au%2Conr&mv=m&mvi=4&pl=15&initcwndbps=1701250&vprv=1&mime=video%2Fmp4&gir=yes&clen=36008611&dur=776.150&lmt=1581430358002720&mt=1590446074&fvip=5&keepalive=yes&c=WEB&txp=5531432&sparams=expire%2Cei%2Cip%2Cid%2Caitags%2Csource%2Crequiressl%2Cvprv%2Cmime%2Cgir%2Cclen%2Cdur%2Clmt&sig=AOq0QJ8wRQIhANfrC_XHkKMXfvStAOlanbI_LtcbBsWANlWues6fG8s0AiAGGFsA46PKfRM6O5IA1D11YizFZBlzRY1L2Y7HvEFwzg%3D%3D&lsparams=mh%2Cmm%2Cmn%2Cms%2Cmv%2Cmvi%2Cpl%2Cinitcwndbps&lsig=AG3C_xAwRAIgNhgOFJyWovJrXAvwsgW9tS2IkhDdKPxrATHBGugwQk0CIDDXYFY1cbbXJlr6dFm9QcrgO0qB3j2kbggOeMgooTJa&ratebypass=yes', 'player_url': None, 'asr': None, 'filesize': 36008611, 'format_note': '720p', 'fps': 24, 'height': 720, 'tbr': 2236.966, 'width': 1280, 'ext': 'mp4', 'vcodec': 'av01.0.05M.08', 'acodec': 'none', 'downloader_options': {'http_chunk_size': 10485760}, 'format': '398 - 1280x720 (720p)', 'protocol': 'https', 'http_headers': {'User-Agent': 'Mozilla/5.0 (Windows NT 10.0; Win64; x64) AppleWebKit/537.36 (KHTML, like Gecko) Chrome/71.0.3567.0 Safari/537.36', 'Accept-Charset': 'ISO-8859-1,utf-8;q=0.7,*;q=0.7', 'Accept': 'text/html,application/xhtml+xml,application/xml;q=0.9,*/*;q=0.8', 'Accept-Encoding': 'gzip, deflate', 'Accept-Language': 'en-us,en;q=0.5'}}, {'format_id': '136', 'url': 'https://r5---sn-vgqsknek.googlevideo.com/videoplayback?expire=1590467729&ei=MUjMXrukAof9igSt-q_IDQ&ip=184.54.17.194&id=o-ABSyJOFiFuTm_ngxA1Bnre0X6q0TxzmPZ1HwXC-s-psB&itag=136&aitags=133%2C134%2C135%2C136%2C137%2C160%2C242%2C243%2C244%2C247%2C248%2C278%2C394%2C395%2C396%2C397%2C398%2C399&source=youtube&requiressl=yes&mh=43&mm=31%2C26&mn=sn-vgqsknek%2Csn-p5qlsndd&ms=au%2Conr&mv=m&mvi=4&pl=15&initcwndbps=1701250&vprv=1&mime=video%2Fmp4&gir=yes&clen=36138766&dur=776.150&lmt=1537006890272596&mt=1590446074&fvip=5&keepalive=yes&c=WEB&sparams=expire%2Cei%2Cip%2Cid%2Caitags%2Csource%2Crequiressl%2Cvprv%2Cmime%2Cgir%2Cclen%2Cdur%2Clmt&sig=AOq0QJ8wRgIhAN-PlC561BB1Jqa8Z_yVHE7afsVys_qxnhYHloI4UzxlAiEAiPiGIRCwwvPn2iCwpo17nRf2AS6omhvpCbfzoXmyymk%3D&lsparams=mh%2Cmm%2Cmn%2Cms%2Cmv%2Cmvi%2Cpl%2Cinitcwndbps&lsig=AG3C_xAwRAIgNhgOFJyWovJrXAvwsgW9tS2IkhDdKPxrATHBGugwQk0CIDDXYFY1cbbXJlr6dFm9QcrgO0qB3j2kbggOeMgooTJa&ratebypass=yes', 'player_url': None, 'ext': 'mp4', 'height': 720, 'format_note': '720p', 'vcodec': 'avc1.4d401f', 'asr': None, 'filesize': 36138766, 'fps': 24, 'tbr': 2256.549, 'width': 1280, 'acodec': 'none', 'downloader_options': {'http_chunk_size': 10485760}, 'format': '136 - 1280x720 (720p)', 'protocol': 'https', 'http_headers': {'User-Agent': 'Mozilla/5.0 (Windows NT 10.0; Win64; x64) AppleWebKit/537.36 (KHTML, like Gecko) Chrome/71.0.3567.0 Safari/537.36', 'Accept-Charset': 'ISO-8859-1,utf-8;q=0.7,*;q=0.7', 'Accept': 'text/html,application/xhtml+xml,application/xml;q=0.9,*/*;q=0.8', 'Accept-Encoding': 'gzip, deflate', 'Accept-Language': 'en-us,en;q=0.5'}}, {'format_id': '248', 'url': 'https://r5---sn-vgqsknek.googlevideo.com/videoplayback?expire=1590467729&ei=MUjMXrukAof9igSt-q_IDQ&ip=184.54.17.194&id=o-ABSyJOFiFuTm_ngxA1Bnre0X6q0TxzmPZ1HwXC-s-psB&itag=248&aitags=133%2C134%2C135%2C136%2C137%2C160%2C242%2C243%2C244%2C247%2C248%2C278%2C394%2C395%2C396%2C397%2C398%2C399&source=youtube&requiressl=yes&mh=43&mm=31%2C26&mn=sn-vgqsknek%2Csn-p5qlsndd&ms=au%2Conr&mv=m&mvi=4&pl=15&initcwndbps=1701250&vprv=1&mime=video%2Fwebm&gir=yes&clen=52119056&dur=776.150&lmt=1537007249659717&mt=1590446074&fvip=5&keepalive=yes&c=WEB&sparams=expire%2Cei%2Cip%2Cid%2Caitags%2Csource%2Crequiressl%2Cvprv%2Cmime%2Cgir%2Cclen%2Cdur%2Clmt&sig=AOq0QJ8wRQIhAOii8WFC7FMWw4LT6AteOc6VRD9ER2VNNAVBTG4szOL2AiBeQF-AvDBdL2H2Ya-3taY3jeqfxcqUyLqjl4q5WikEzg%3D%3D&lsparams=mh%2Cmm%2Cmn%2Cms%2Cmv%2Cmvi%2Cpl%2Cinitcwndbps&lsig=AG3C_xAwRAIgNhgOFJyWovJrXAvwsgW9tS2IkhDdKPxrATHBGugwQk0CIDDXYFY1cbbXJlr6dFm9QcrgO0qB3j2kbggOeMgooTJa&ratebypass=yes', 'player_url': None, 'ext': 'webm', 'height': 1080, 'format_note': '1080p', 'vcodec': 'vp9', 'asr': None, 'filesize': 52119056, 'fps': 24, 'tbr': 2698.818, 'width': 1920, 'acodec': 'none', 'downloader_options': {'http_chunk_size': 10485760}, 'format': '248 - 1920x1080 (1080p)', 'protocol': 'https', 'http_headers': {'User-Agent': 'Mozilla/5.0 (Windows NT 10.0; Win64; x64) AppleWebKit/537.36 (KHTML, like Gecko) Chrome/71.0.3567.0 Safari/537.36', 'Accept-Charset': 'ISO-8859-1,utf-8;q=0.7,*;q=0.7', 'Accept': 'text/html,application/xhtml+xml,application/xml;q=0.9,*/*;q=0.8', 'Accept-Encoding': 'gzip, deflate', 'Accept-Language': 'en-us,en;q=0.5'}}, {'format_id': '137', 'url': 'https://r5---sn-vgqsknek.googlevideo.com/videoplayback?expire=1590467729&ei=MUjMXrukAof9igSt-q_IDQ&ip=184.54.17.194&id=o-ABSyJOFiFuTm_ngxA1Bnre0X6q0TxzmPZ1HwXC-s-psB&itag=137&aitags=133%2C134%2C135%2C136%2C137%2C160%2C242%2C243%2C244%2C247%2C248%2C278%2C394%2C395%2C396%2C397%2C398%2C399&source=youtube&requiressl=yes&mh=43&mm=31%2C26&mn=sn-vgqsknek%2Csn-p5qlsndd&ms=au%2Conr&mv=m&mvi=4&pl=15&initcwndbps=1701250&vprv=1&mime=video%2Fmp4&gir=yes&clen=58771003&dur=776.150&lmt=1537006927281742&mt=1590446074&fvip=5&keepalive=yes&c=WEB&sparams=expire%2Cei%2Cip%2Cid%2Caitags%2Csource%2Crequiressl%2Cvprv%2Cmime%2Cgir%2Cclen%2Cdur%2Clmt&sig=AOq0QJ8wRQIgLHnHe9G96jnlFeI1sYrf_jvVlhixojTlqj2B0XNG3qcCIQCQSbqEQMhoJ11Zg0n7Vf_U5UFNq1rtLzGiQC-B-K1YoQ%3D%3D&lsparams=mh%2Cmm%2Cmn%2Cms%2Cmv%2Cmvi%2Cpl%2Cinitcwndbps&lsig=AG3C_xAwRAIgNhgOFJyWovJrXAvwsgW9tS2IkhDdKPxrATHBGugwQk0CIDDXYFY1cbbXJlr6dFm9QcrgO0qB3j2kbggOeMgooTJa&ratebypass=yes', 'player_url': None, 'ext': 'mp4', 'height': 1080, 'format_note': '1080p', 'vcodec': 'avc1.640028', 'asr': None, 'filesize': 58771003, 'fps': 24, 'tbr': 4157.544, 'width': 1920, 'acodec': 'none', 'downloader_options': {'http_chunk_size': 10485760}, 'format': '137 - 1920x1080 (1080p)', 'protocol': 'https', 'http_headers': {'User-Agent': 'Mozilla/5.0 (Windows NT 10.0; Win64; x64) AppleWebKit/537.36 (KHTML, like Gecko) Chrome/71.0.3567.0 Safari/537.36', 'Accept-Charset': 'ISO-8859-1,utf-8;q=0.7,*;q=0.7', 'Accept': 'text/html,application/xhtml+xml,application/xml;q=0.9,*/*;q=0.8', 'Accept-Encoding': 'gzip, deflate', 'Accept-Language': 'en-us,en;q=0.5'}}, {'format_id': '399', 'url': 'https://r5---sn-vgqsknek.googlevideo.com/videoplayback?expire=1590467729&ei=MUjMXrukAof9igSt-q_IDQ&ip=184.54.17.194&id=o-ABSyJOFiFuTm_ngxA1Bnre0X6q0TxzmPZ1HwXC-s-psB&itag=399&aitags=133%2C134%2C135%2C136%2C137%2C160%2C242%2C243%2C244%2C247%2C248%2C278%2C394%2C395%2C396%2C397%2C398%2C399&source=youtube&requiressl=yes&mh=43&mm=31%2C26&mn=sn-vgqsknek%2Csn-p5qlsndd&ms=au%2Conr&mv=m&mvi=4&pl=15&initcwndbps=1701250&vprv=1&mime=video%2Fmp4&gir=yes&clen=64325983&dur=776.150&lmt=1581430801775611&mt=1590446074&fvip=5&keepalive=yes&c=WEB&txp=5531432&sparams=expire%2Cei%2Cip%2Cid%2Caitags%2Csource%2Crequiressl%2Cvprv%2Cmime%2Cgir%2Cclen%2Cdur%2Clmt&sig=AOq0QJ8wRgIhAJ3ckCeXcyrI7PPphFHpRinYNwMzzSCnZA9NEAHc8XDsAiEA4tkKlocr9HrT93QnuhW5s6O5fbB176KGsCz911UW0gA%3D&lsparams=mh%2Cmm%2Cmn%2Cms%2Cmv%2Cmvi%2Cpl%2Cinitcwndbps&lsig=AG3C_xAwRAIgNhgOFJyWovJrXAvwsgW9tS2IkhDdKPxrATHBGugwQk0CIDDXYFY1cbbXJlr6dFm9QcrgO0qB3j2kbggOeMgooTJa&ratebypass=yes', 'player_url': None, 'asr': None, 'filesize': 64325983, 'format_note': '1080p', 'fps': 24, 'height': 1080, 'tbr': 4303.76, 'width': 1920, 'ext': 'mp4', 'vcodec': 'av01.0.08M.08', 'acodec': 'none', 'downloader_options': {'http_chunk_size': 10485760}, 'format': '399 - 1920x1080 (1080p)', 'protocol': 'https', 'http_headers': {'User-Agent': 'Mozilla/5.0 (Windows NT 10.0; Win64; x64) AppleWebKit/537.36 (KHTML, like Gecko) Chrome/71.0.3567.0 Safari/537.36', 'Accept-Charset': 'ISO-8859-1,utf-8;q=0.7,*;q=0.7', 'Accept': 'text/html,application/xhtml+xml,application/xml;q=0.9,*/*;q=0.8', 'Accept-Encoding': 'gzip, deflate', 'Accept-Language': 'en-us,en;q=0.5'}}, {'format_id': '18', 'url': 'https://r5---sn-vgqsknek.googlevideo.com/videoplayback?expire=1590467729&ei=MUjMXrukAof9igSt-q_IDQ&ip=184.54.17.194&id=o-ABSyJOFiFuTm_ngxA1Bnre0X6q0TxzmPZ1HwXC-s-psB&itag=18&source=youtube&requiressl=yes&mh=43&mm=31%2C26&mn=sn-vgqsknek%2Csn-p5qlsndd&ms=au%2Conr&mv=m&mvi=4&pl=15&initcwndbps=1701250&vprv=1&mime=video%2Fmp4&gir=yes&clen=33986034&ratebypass=yes&dur=776.266&lmt=1537002523229840&mt=1590446074&fvip=5&c=WEB&sparams=expire%2Cei%2Cip%2Cid%2Citag%2Csource%2Crequiressl%2Cvprv%2Cmime%2Cgir%2Cclen%2Cratebypass%2Cdur%2Clmt&sig=AOq0QJ8wRQIgBzWrsQtErcKEMAmxn-FFqRC9nZhG1xkNaiOai8Fi0EMCIQDwt3LPxUzioDo5u8IGRRlP-Ibdw3zDy0ZkoCrX81Y-vg%3D%3D&lsparams=mh%2Cmm%2Cmn%2Cms%2Cmv%2Cmvi%2Cpl%2Cinitcwndbps&lsig=AG3C_xAwRAIgNhgOFJyWovJrXAvwsgW9tS2IkhDdKPxrATHBGugwQk0CIDDXYFY1cbbXJlr6dFm9QcrgO0qB3j2kbggOeMgooTJa', 'player_url': None, 'ext': 'mp4', 'width': 640, 'height': 360, 'acodec': 'mp4a.40.2', 'abr': 96, 'vcodec': 'avc1.42001E', 'asr': 44100, 'filesize': 33986034, 'format_note': '360p', 'fps': 24, 'tbr': 350.303, 'format': '18 - 640x360 (360p)', 'protocol': 'https', 'http_headers': {'User-Agent': 'Mozilla/5.0 (Windows NT 10.0; Win64; x64) AppleWebKit/537.36 (KHTML, like Gecko) Chrome/71.0.3567.0 Safari/537.36', 'Accept-Charset': 'ISO-8859-1,utf-8;q=0.7,*;q=0.7', 'Accept': 'text/html,application/xhtml+xml,application/xml;q=0.9,*/*;q=0.8', 'Accept-Encoding': 'gzip, deflate', 'Accept-Language': 'en-us,en;q=0.5'}}, {'format_id': '22', 'url': 'https://r5---sn-vgqsknek.googlevideo.com/videoplayback?expire=1590467729&ei=MUjMXrukAof9igSt-q_IDQ&ip=184.54.17.194&id=o-ABSyJOFiFuTm_ngxA1Bnre0X6q0TxzmPZ1HwXC-s-psB&itag=22&source=youtube&requiressl=yes&mh=43&mm=31%2C26&mn=sn-vgqsknek%2Csn-p5qlsndd&ms=au%2Conr&mv=m&mvi=4&pl=15&initcwndbps=1701250&vprv=1&mime=video%2Fmp4&ratebypass=yes&dur=776.266&lmt=1537008464523143&mt=1590446074&fvip=5&c=WEB&sparams=expire%2Cei%2Cip%2Cid%2Citag%2Csource%2Crequiressl%2Cvprv%2Cmime%2Cratebypass%2Cdur%2Clmt&sig=AOq0QJ8wRQIhAPuqX7KKldbCgdBxm76EjIqeSebMKfefa_CuS3vpp797AiBZS1IG4vrQokwx5fX7iklvo-g6_UDcDsRx1gEYXkRx8Q%3D%3D&lsparams=mh%2Cmm%2Cmn%2Cms%2Cmv%2Cmvi%2Cpl%2Cinitcwndbps&lsig=AG3C_xAwRAIgNhgOFJyWovJrXAvwsgW9tS2IkhDdKPxrATHBGugwQk0CIDDXYFY1cbbXJlr6dFm9QcrgO0qB3j2kbggOeMgooTJa', 'player_url': None, 'ext': 'mp4', 'width': 1280, 'height': 720, 'acodec': 'mp4a.40.2', 'abr': 192, 'vcodec': 'avc1.64001F', 'asr': 44100, 'filesize': None, 'format_note': '720p', 'fps': 24, 'tbr': 499.128, 'format': '22 - 1280x720 (720p)', 'protocol': 'https', 'http_headers': {'User-Agent': 'Mozilla/5.0 (Windows NT 10.0; Win64; x64) AppleWebKit/537.36 (KHTML, like Gecko) Chrome/71.0.3567.0 Safari/537.36', 'Accept-Charset': 'ISO-8859-1,utf-8;q=0.7,*;q=0.7', 'Accept': 'text/html,application/xhtml+xml,application/xml;q=0.9,*/*;q=0.8', 'Accept-Encoding': 'gzip, deflate', 'Accept-Language': 'en-us,en;q=0.5'}}], 'is_live': None, 'start_time': None, 'end_time': None, 'series': None, 'season_number': None, 'episode_number': None, 'track': None, 'artist': None, 'album': None, 'release_date': None, 'release_year': None, 'extractor': 'youtube', 'webpage_url_basename': 'watch', 'extractor_key': 'Youtube', 'playlist': None, 'playlist_index': None, 'thumbnails': [{'url': 'https://i.ytimg.com/vi/nb0YoRMXIY0/maxresdefault.jpg', 'id': '0'}], 'display_id': 'nb0YoRMXIY0', 'requested_subtitles': None, 'requested_formats': ({'format_id': '399', 'url': 'https://r5---sn-vgqsknek.googlevideo.com/videoplayback?expire=1590467729&ei=MUjMXrukAof9igSt-q_IDQ&ip=184.54.17.194&id=o-ABSyJOFiFuTm_ngxA1Bnre0X6q0TxzmPZ1HwXC-s-psB&itag=399&aitags=133%2C134%2C135%2C136%2C137%2C160%2C242%2C243%2C244%2C247%2C248%2C278%2C394%2C395%2C396%2C397%2C398%2C399&source=youtube&requiressl=yes&mh=43&mm=31%2C26&mn=sn-vgqsknek%2Csn-p5qlsndd&ms=au%2Conr&mv=m&mvi=4&pl=15&initcwndbps=1701250&vprv=1&mime=video%2Fmp4&gir=yes&clen=64325983&dur=776.150&lmt=1581430801775611&mt=1590446074&fvip=5&keepalive=yes&c=WEB&txp=5531432&sparams=expire%2Cei%2Cip%2Cid%2Caitags%2Csource%2Crequiressl%2Cvprv%2Cmime%2Cgir%2Cclen%2Cdur%2Clmt&sig=AOq0QJ8wRgIhAJ3ckCeXcyrI7PPphFHpRinYNwMzzSCnZA9NEAHc8XDsAiEA4tkKlocr9HrT93QnuhW5s6O5fbB176KGsCz911UW0gA%3D&lsparams=mh%2Cmm%2Cmn%2Cms%2Cmv%2Cmvi%2Cpl%2Cinitcwndbps&lsig=AG3C_xAwRAIgNhgOFJyWovJrXAvwsgW9tS2IkhDdKPxrATHBGugwQk0CIDDXYFY1cbbXJlr6dFm9QcrgO0qB3j2kbggOeMgooTJa&ratebypass=yes', 'player_url': None, 'asr': None, 'filesize': 64325983, 'format_note': '1080p', 'fps': 24, 'height': 1080, 'tbr': 4303.76, 'width': 1920, 'ext': 'mp4', 'vcodec': 'av01.0.08M.08', 'acodec': 'none', 'downloader_options': {'http_chunk_size': 10485760}, 'format': '399 - 1920x1080 (1080p)', 'protocol': 'https', 'http_headers': {'User-Agent': 'Mozilla/5.0 (Windows NT 10.0; Win64; x64) AppleWebKit/537.36 (KHTML, like Gecko) Chrome/71.0.3567.0 Safari/537.36', 'Accept-Charset': 'ISO-8859-1,utf-8;q=0.7,*;q=0.7', 'Accept': 'text/html,application/xhtml+xml,application/xml;q=0.9,*/*;q=0.8', 'Accept-Encoding': 'gzip, deflate', 'Accept-Language': 'en-us,en;q=0.5'}}, {'format_id': '251', 'url': 'https://r5---sn-vgqsknek.googlevideo.com/videoplayback?expire=1590467729&ei=MUjMXrukAof9igSt-q_IDQ&ip=184.54.17.194&id=o-ABSyJOFiFuTm_ngxA1Bnre0X6q0TxzmPZ1HwXC-s-psB&itag=251&source=youtube&requiressl=yes&mh=43&mm=31%2C26&mn=sn-vgqsknek%2Csn-p5qlsndd&ms=au%2Conr&mv=m&mvi=4&pl=15&initcwndbps=1701250&vprv=1&mime=audio%2Fwebm&gir=yes&clen=12611002&dur=776.221&lmt=1537010817750005&mt=1590446074&fvip=5&keepalive=yes&c=WEB&sparams=expire%2Cei%2Cip%2Cid%2Citag%2Csource%2Crequiressl%2Cvprv%2Cmime%2Cgir%2Cclen%2Cdur%2Clmt&sig=AOq0QJ8wRQIgGSJSzJ8OsGzLZEQj6SQ99M0iYHlIWV_K34CEFuT08DYCIQDRzu3jNPyLhR5ykBEcVHu4a2jycjDltSSwzIIOIEfQOA%3D%3D&lsparams=mh%2Cmm%2Cmn%2Cms%2Cmv%2Cmvi%2Cpl%2Cinitcwndbps&lsig=AG3C_xAwRAIgNhgOFJyWovJrXAvwsgW9tS2IkhDdKPxrATHBGugwQk0CIDDXYFY1cbbXJlr6dFm9QcrgO0qB3j2kbggOeMgooTJa&ratebypass=yes', 'player_url': None, 'ext': 'webm', 'format_note': 'tiny', 'acodec': 'opus', 'abr': 160, 'asr': 48000, 'filesize': 12611002, 'fps': None, 'height': None, 'tbr': 148.386, 'width': None, 'vcodec': 'none', 'downloader_options': {'http_chunk_size': 10485760}, 'format': '251 - audio only (tiny)', 'protocol': 'https', 'http_headers': {'User-Agent': 'Mozilla/5.0 (Windows NT 10.0; Win64; x64) AppleWebKit/537.36 (KHTML, like Gecko) Chrome/71.0.3567.0 Safari/537.36', 'Accept-Charset': 'ISO-8859-1,utf-8;q=0.7,*;q=0.7', 'Accept': 'text/html,application/xhtml+xml,application/xml;q=0.9,*/*;q=0.8', 'Accept-Encoding': 'gzip, deflate', 'Accept-Language': 'en-us,en;q=0.5'}}), 'format': '399 - 1920x1080 (1080p)+251 - audio only (tiny)', 'format_id': '399+251', 'width': 1920, 'height': 1080, 'resolution': None, 'fps': 24, 'vcodec': 'av01.0.08M.08', 'vbr': None, 'stretched_ratio': None, 'acodec': 'opus', 'abr': 160, 'ext': 'mp4'}\n"
    }
   ],
   "source": [
    "info_dict = YoutubeDL().extract_info(video, download=False)\n",
    "\n",
    "print(info_dict)"
   ]
  },
  {
   "cell_type": "code",
   "execution_count": 3,
   "metadata": {
    "tags": [
     "outputPrepend"
    ]
   },
   "outputs": [],
   "source": [
    "def getVideoURL():\n",
    "    url = ''\n",
    "    maxWidth = 0\n",
    "    # Find the widest video only stream\n",
    "    for value in info_dict['formats']:\n",
    "        if value['acodec'] == 'none':\n",
    "            if value['width'] > maxWidth:\n",
    "                url = value['url']\n",
    "    return url"
   ]
  },
  {
   "cell_type": "code",
   "execution_count": 4,
   "metadata": {},
   "outputs": [],
   "source": [
    "def getAudioURL():\n",
    "    # Audio quality doesn't matter as much,\n",
    "    # so return the first audio only stream.\n",
    "    for value in info_dict['formats']:\n",
    "        if value['vcodec'] == 'none':\n",
    "            return value['url']"
   ]
  },
  {
   "cell_type": "code",
   "execution_count": 5,
   "metadata": {},
   "outputs": [],
   "source": [
    "vidURL = getVideoURL()\n",
    "audURL = getAudioURL()\n"
   ]
  },
  {
   "cell_type": "code",
   "execution_count": 6,
   "metadata": {},
   "outputs": [
    {
     "output_type": "execute_result",
     "data": {
      "text/plain": "'ffmpeg -ss 16.5 -t 10 -i https://r5---sn-vgqsknek.googlevideo.com/videoplayback?expire=1588398068&ei=lLOsXsaoDoWSwQHcg7qQBg&ip=184.54.17.194&id=o-AIN5Chu81RzGNtNaQxW7qgbCsJJ8rLJAiTe9PulrDe4J&itag=399&aitags=133%2C134%2C135%2C136%2C137%2C160%2C242%2C243%2C244%2C247%2C248%2C278%2C394%2C395%2C396%2C397%2C398%2C399&source=youtube&requiressl=yes&mh=43&mm=31%2C26&mn=sn-vgqsknek%2Csn-p5qlsndd&ms=au%2Conr&mv=m&mvi=4&pl=15&initcwndbps=1750000&vprv=1&mime=video%2Fmp4&gir=yes&clen=64325983&dur=776.150&lmt=1581430801775611&mt=1588376370&fvip=5&keepalive=yes&c=WEB&txp=5531432&sparams=expire%2Cei%2Cip%2Cid%2Caitags%2Csource%2Crequiressl%2Cvprv%2Cmime%2Cgir%2Cclen%2Cdur%2Clmt&sig=AJpPlLswRgIhAMg9A9fzCJXfvVgTWEtt_AKYcCIxl3mc8DG2LlHMksl8AiEAwxObBs5O429dX31ZeLfbREKFwd-un0rriyC17ysTp6k%3D&lsparams=mh%2Cmm%2Cmn%2Cms%2Cmv%2Cmvi%2Cpl%2Cinitcwndbps&lsig=ALrAebAwRgIhANgBmwYUXgckZcZ3EVqqIPgnG7zLYtsuDFYfnbxBONIXAiEA6K6FEeX0TE4iBCnHtH2hwzaSR5gjhhntq6wHSF2Exlo%3D&ratebypass=yes -ss 16.5 -t 10 -i https://r5---sn-vgqsknek.googlevideo.com/videoplayback?expire=1588398068&ei=lLOsXsaoDoWSwQHcg7qQBg&ip=184.54.17.194&id=o-AIN5Chu81RzGNtNaQxW7qgbCsJJ8rLJAiTe9PulrDe4J&itag=249&source=youtube&requiressl=yes&mh=43&mm=31%2C26&mn=sn-vgqsknek%2Csn-p5qlsndd&ms=au%2Conr&mv=m&mvi=4&pl=15&initcwndbps=1750000&vprv=1&mime=audio%2Fwebm&gir=yes&clen=4934159&dur=776.221&lmt=1537010817170084&mt=1588376370&fvip=5&keepalive=yes&c=WEB&sparams=expire%2Cei%2Cip%2Cid%2Citag%2Csource%2Crequiressl%2Cvprv%2Cmime%2Cgir%2Cclen%2Cdur%2Clmt&sig=AJpPlLswRgIhAJ8czRszzA_C1CAKBVfoxQlAAMsr9E7yfca93oApAg2kAiEAodI03c_krG68Wq-6Y0s9Bj2XTS14s0ME5SRKmYVIR8E%3D&lsparams=mh%2Cmm%2Cmn%2Cms%2Cmv%2Cmvi%2Cpl%2Cinitcwndbps&lsig=ALrAebAwRgIhANgBmwYUXgckZcZ3EVqqIPgnG7zLYtsuDFYfnbxBONIXAiEA6K6FEeX0TE4iBCnHtH2hwzaSR5gjhhntq6wHSF2Exlo%3D&ratebypass=yes -map 0:v:0 -map 1:a:0 -y Videos/Testing/112.mkv'"
     },
     "metadata": {},
     "execution_count": 6
    }
   ],
   "source": [
    "startPoint = 16.5\n",
    "duration = 10\n",
    "filename = \"Videos/Testing/112.mkv\"\n",
    "# vidURL = \"vidURL\"\n",
    "# audURL = \"audURL\"\n",
    "\n",
    "ff = FFmpeg(\n",
    "    inputs={\n",
    "        f\"{vidURL}\" : ['-ss', f\"{startPoint}\", '-t', f\"{duration}\"],\n",
    "        f\"{audURL}\" : ['-ss', f\"{startPoint}\", '-t', f\"{duration}\"]\n",
    "    },\n",
    "    outputs={\n",
    "        f\"{filename}\": ['-map', '0:v:0', '-map', '1:a:0', '-y']\n",
    "    }\n",
    ")\n",
    "\n",
    "ff.cmd\n",
    "\n",
    "# ffmpeg -ss $start_point -i \"$video_url\" -ss $start_point -i \"$audio_url\" -map 0:v -map 1:a -ss $start_point -t $duration -c:v libx264 -c:a aac test.mkv"
   ]
  },
  {
   "cell_type": "code",
   "execution_count": 7,
   "metadata": {},
   "outputs": [],
   "source": [
    "# ff.run()"
   ]
  },
  {
   "cell_type": "code",
   "execution_count": 8,
   "metadata": {},
   "outputs": [],
   "source": [
    "# info_dict"
   ]
  },
  {
   "cell_type": "code",
   "execution_count": null,
   "metadata": {},
   "outputs": [],
   "source": []
  }
 ],
 "metadata": {
  "language_info": {
   "codemirror_mode": {
    "name": "ipython",
    "version": 3
   },
   "file_extension": ".py",
   "mimetype": "text/x-python",
   "name": "python",
   "nbconvert_exporter": "python",
   "pygments_lexer": "ipython3",
   "version": "3.8.2-final"
  },
  "orig_nbformat": 2,
  "kernelspec": {
   "name": "python38264bit09735451fcc0409dacbed5382c4023ca",
   "display_name": "Python 3.8.2 64-bit"
  }
 },
 "nbformat": 4,
 "nbformat_minor": 2
}