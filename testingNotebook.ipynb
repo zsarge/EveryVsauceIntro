{
 "cells": [
  {
   "cell_type": "code",
   "execution_count": 32,
   "metadata": {},
   "outputs": [],
   "source": [
    "#  Testing ytdl and FFMPEG\n",
    "from youtube_dl import YoutubeDL\n",
    "from ffmpy import FFmpeg\n",
    "video = \"https://www.youtube.com/watch?v=-v3R678Pvj8\"\n",
    "\n",
    "\n"
   ]
  },
  {
   "cell_type": "code",
   "execution_count": 33,
   "metadata": {},
   "outputs": [],
   "source": [
    "def loadVideo():\n",
    "    with YoutubeDL() as ydl:\n",
    "        info_dict = ydl.extract_info(video, download=False)"
   ]
  },
  {
   "cell_type": "code",
   "execution_count": 34,
   "metadata": {
    "tags": [
     "outputPrepend"
    ]
   },
   "outputs": [],
   "source": [
    "def getVideoURL():\n",
    "    url = ''\n",
    "    maxWidth = 0\n",
    "    # Find the widest video only stream\n",
    "    for value in info_dict['formats']:\n",
    "        if value['acodec'] == 'none':\n",
    "            if value['width'] > maxWidth:\n",
    "                url = value['url']\n",
    "    return url"
   ]
  },
  {
   "cell_type": "code",
   "execution_count": 35,
   "metadata": {},
   "outputs": [],
   "source": [
    "def getAudioURL():\n",
    "    # Audio quality doesn't matter as much,\n",
    "    # so return the first audio only stream.\n",
    "    for value in info_dict['formats']:\n",
    "        if value['vcodec'] == 'none':\n",
    "            return value['url']"
   ]
  },
  {
   "cell_type": "code",
   "execution_count": 36,
   "metadata": {},
   "outputs": [],
   "source": [
    "vidURL = getVideoURL()\n",
    "audURL = getAudioURL()"
   ]
  },
  {
   "cell_type": "code",
   "execution_count": 37,
   "metadata": {},
   "outputs": [
    {
     "output_type": "execute_result",
     "data": {
      "text/plain": "'ffmpeg -ss 0 -i https://r4---sn-vgqsknes.googlevideo.com/videoplayback?expire=1587930178&ei=4o-lXt35I8TTD8jEuogM&ip=184.54.17.194&id=o-AM0E-I6WK8KvHn-Rv8caphWopwclFapvJpNbVUEUH4ik&itag=136&aitags=133%2C134%2C135%2C136%2C160%2C242%2C243%2C244%2C247%2C278&source=youtube&requiressl=yes&mh=Be&mm=31%2C26&mn=sn-vgqsknes%2Csn-p5qs7n76&ms=au%2Conr&mv=m&mvi=3&pl=15&initcwndbps=1618750&vprv=1&mime=video%2Fmp4&gir=yes&clen=47230867&dur=263.763&lmt=1507867193069179&mt=1587908495&fvip=6&keepalive=yes&fexp=23882514&c=WEB&sparams=expire%2Cei%2Cip%2Cid%2Caitags%2Csource%2Crequiressl%2Cvprv%2Cmime%2Cgir%2Cclen%2Cdur%2Clmt&sig=AJpPlLswRAIgFPjngBWQr42ENz02K6JNvMa6Lxj7ZmWwbxMwHG39RZwCIBirsDauO8M_Zzh2VEEEkzwRlPC5VZKEpOUTIi4JbCzB&lsparams=mh%2Cmm%2Cmn%2Cms%2Cmv%2Cmvi%2Cpl%2Cinitcwndbps&lsig=ALrAebAwRQIgUOSiBQzIRF1HQn1r45ivADOfjZg_GkBYLFAyutGgeoUCIQCRb3nUhx449HRcdQn2IkcxstXbAUa6yvQEXvSjTeuplg%3D%3D&ratebypass=yes -ss 0 -i https://r4---sn-vgqsknes.googlevideo.com/videoplayback?expire=1587930178&ei=4o-lXt35I8TTD8jEuogM&ip=184.54.17.194&id=o-AM0E-I6WK8KvHn-Rv8caphWopwclFapvJpNbVUEUH4ik&itag=249&source=youtube&requiressl=yes&mh=Be&mm=31%2C26&mn=sn-vgqsknes%2Csn-p5qs7n76&ms=au%2Conr&mv=m&mvi=3&pl=15&initcwndbps=1618750&vprv=1&mime=audio%2Fwebm&gir=yes&clen=1730080&dur=263.761&lmt=1497254870996986&mt=1587908495&fvip=6&keepalive=yes&fexp=23882514&c=WEB&sparams=expire%2Cei%2Cip%2Cid%2Citag%2Csource%2Crequiressl%2Cvprv%2Cmime%2Cgir%2Cclen%2Cdur%2Clmt&sig=AJpPlLswRQIgHzwZeH2jhoBOB9-hMFhfn6nwJCy3tAUO3LobYUmd-7ICIQDr_uPm68xWZi9zNxsDbUnIXSY1dGdr1m-tonkQ9OJ1Hw%3D%3D&lsparams=mh%2Cmm%2Cmn%2Cms%2Cmv%2Cmvi%2Cpl%2Cinitcwndbps&lsig=ALrAebAwRQIgUOSiBQzIRF1HQn1r45ivADOfjZg_GkBYLFAyutGgeoUCIQCRb3nUhx449HRcdQn2IkcxstXbAUa6yvQEXvSjTeuplg%3D%3D&ratebypass=yes -map 0:v -map 1:a -ss 0 -t 4 -c:v libx264 -c:a aac Videos/1.mkv'"
     },
     "metadata": {},
     "execution_count": 37
    }
   ],
   "source": [
    "startPoint = 0\n",
    "duration = 4\n",
    "filename = \"Videos/1.mkv\"\n",
    "\n",
    "ff = FFmpeg(\n",
    "    inputs={\n",
    "        f\"{vidURL}\" : ['-ss', f\"{startPoint}\"],\n",
    "        f\"{audURL}\" : ['-ss', f\"{startPoint}\"]\n",
    "    },\n",
    "    outputs={\n",
    "        f\"{filename}\": ['-map', '0:v', '-map', '1:a', '-ss', f\"{startPoint}\", '-t', f\"{duration}\", \"-c:v\", \"libx264\", \"-c:a\", \"aac\"]\n",
    "    }\n",
    ")\n",
    "\n",
    "ff.run()\n",
    "\n",
    "# ffmpeg -ss $start_point -i \"$video_url\" -ss $start_point -i \"$audio_url\" -map 0:v -map 1:a -ss $start_point -t $duration -c:v libx264 -c:a aac test.mkv"
   ]
  },
  {
   "cell_type": "code",
   "execution_count": 38,
   "metadata": {},
   "outputs": [
    {
     "output_type": "execute_result",
     "data": {
      "text/plain": "(None, None)"
     },
     "metadata": {},
     "execution_count": 38
    }
   ],
   "source": [
    "ff.run()"
   ]
  },
  {
   "cell_type": "code",
   "execution_count": null,
   "metadata": {},
   "outputs": [],
   "source": []
  }
 ],
 "metadata": {
  "language_info": {
   "codemirror_mode": {
    "name": "ipython",
    "version": 3
   },
   "file_extension": ".py",
   "mimetype": "text/x-python",
   "name": "python",
   "nbconvert_exporter": "python",
   "pygments_lexer": "ipython3",
   "version": "3.6.9-final"
  },
  "orig_nbformat": 2,
  "kernelspec": {
   "name": "python36964bite0db1fa476514dfebca9ae92426249d3",
   "display_name": "Python 3.6.9 64-bit"
  }
 },
 "nbformat": 4,
 "nbformat_minor": 2
}